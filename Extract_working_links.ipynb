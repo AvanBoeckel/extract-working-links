{
  "nbformat": 4,
  "nbformat_minor": 0,
  "metadata": {
    "colab": {
      "provenance": [],
      "authorship_tag": "ABX9TyNYLGxyvO0hatNTPYbNrooM",
      "include_colab_link": false
    },
    "kernelspec": {
      "name": "python3",
      "display_name": "Python 3"
    },
    "language_info": {
      "name": "python"
    }
  },
  "cells": [
    {
      "cell_type": "markdown",
      "metadata": {
        "id": "view-in-github",
        "colab_type": "text"
      },
      "source": [
        "<a href=\"https://colab.research.google.com/github/AvanBoeckel/extract-working-links/blob/main/Extract_working_links.ipynb\" target=\"_parent\"><img src=\"https://colab.research.google.com/assets/colab-badge.svg\" alt=\"Open In Colab\"/></a>"
      ]
    },
    {
      "cell_type": "code",
      "execution_count": null,
      "metadata": {
        "id": "ThwmqUl6ca1M"
      },
      "outputs": [],
      "source": [
        "import re\n",
        "import requests\n"
      ]
    },
    {
      "cell_type": "code",
      "source": [
        "def extract_links_and_dois(text):\n",
        "    url_pattern = r'https?://[^\\s<>\"]+|www\\.[^\\s<>\"]+'\n",
        "    doi_pattern = r'\\b10\\.\\d{4,9}/[-._;()/:A-Z0-9]+\\b'\n",
        "    urls = re.findall(url_pattern, text, re.IGNORECASE)\n",
        "    dois = re.findall(doi_pattern, text, re.IGNORECASE)\n",
        "    doi_urls = [f\"https://doi.org/{doi}\" for doi in dois]\n",
        "    return list(set(urls + doi_urls))\n",
        "\n",
        "def check_link_availability(url):\n",
        "    headers = {\n",
        "        \"User-Agent\": (\n",
        "            \"Mozilla/5.0 (Windows NT 10.0; Win64; x64) \"\n",
        "            \"AppleWebKit/537.36 (KHTML, like Gecko) \"\n",
        "            \"Chrome/114.0.0.0 Safari/537.36\"\n",
        "        )\n",
        "    }\n",
        "\n",
        "    try:\n",
        "        with requests.Session() as session:\n",
        "            response = session.get(url, headers=headers, allow_redirects=False, timeout=5)\n",
        "            status_code = response.status_code\n",
        "            if 200 <= status_code < 400:\n",
        "                redirect_info = response.headers.get(\"Location\")\n",
        "                return True, f\"Status: {status_code}\" + (f\", Redirect: {redirect_info}\" if redirect_info else \"\")\n",
        "            else:\n",
        "                return False, f\"Status: {status_code}\"\n",
        "    except requests.exceptions.RequestException as e:\n",
        "        return False, f\"RequestException: {type(e).__name__} - {e}\"\n",
        "\n",
        "def main():\n",
        "    filepath = \"file.txt\"\n",
        "\n",
        "    with open(filepath, \"r\", encoding=\"utf-8\") as file:\n",
        "        content = file.read()\n",
        "\n",
        "    links = extract_links_and_dois(content)\n",
        "    results = {}\n",
        "\n",
        "    for link in links:\n",
        "        status, detail = check_link_availability(link)\n",
        "        results[link] = (status, detail)\n",
        "\n",
        "    print(\"\\n📄 Results:\\n\")\n",
        "    for link, (status, detail) in results.items():\n",
        "        status_str = \"✅ Available\" if status else \"❌ Unavailable\"\n",
        "        print(f\"{link}\\n→ {status_str} ({detail})\\n\")\n",
        "\n",
        "if __name__ == \"__main__\":\n",
        "    main()"
      ],
      "metadata": {
        "colab": {
          "base_uri": "https://localhost:8080/"
        },
        "id": "_v3FVlQneqxD",
        "outputId": "d725f812-7f6b-48e4-ce9b-ff53513c7b75"
      },
      "execution_count": 17,
      "outputs": [
        {
          "output_type": "stream",
          "name": "stdout",
          "text": [
            "\n",
            "📄 Results:\n",
            "\n",
            "https://doi.org/,\n",
            "→ ❌ Unavailable (Status: 400)\n",
            "\n",
            "https://doi.org/\n",
            "→ ✅ Available (Status: 301, Redirect: https://www.doi.org/)\n",
            "\n",
            "https://doi.org/10.11648/j.pbs.20160506.13\n",
            "→ ❌ Unavailable (Status: 404)\n",
            "\n",
            "https://doi.org/10.57539/telesjournal.44.0_101\n",
            "→ ✅ Available (Status: 302, Redirect: https://www.jstage.jst.go.jp/article/telesjournal/44/0/44_440009/_article)\n",
            "\n",
            "https://doi.org/10.1177/…\n",
            "→ ❌ Unavailable (Status: 404)\n",
            "\n",
            "https://doi.org/10.1080/13670050.2016.1248373\n",
            "→ ✅ Available (Status: 302, Redirect: https://www.tandfonline.com/doi/full/10.1080/13670050.2016.1248373)\n",
            "\n",
            "https://doi.org/10.1080/01434632.2020.1749644\n",
            "→ ✅ Available (Status: 302, Redirect: https://www.tandfonline.com/doi/full/10.1080/01434632.2020.1749644)\n",
            "\n",
            "https://doi.org/10.3389/fpsyg.2024.1376076\n",
            "→ ✅ Available (Status: 302, Redirect: https://www.frontiersin.org/articles/10.3389/fpsyg.2024.1376076/full)\n",
            "\n"
          ]
        }
      ]
    }
  ]
}
